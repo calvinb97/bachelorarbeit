{
 "cells": [
  {
   "cell_type": "code",
   "execution_count": 15,
   "id": "786a0d7e-c6af-4df6-a0d2-85f04752dda0",
   "metadata": {},
   "outputs": [
    {
     "name": "stdout",
     "output_type": "stream",
     "text": [
      "115517712\n",
      "7\n",
      "True\n"
     ]
    }
   ],
   "source": [
    "def align(adr, itemsize):\n",
    "    if adr % itemsize == 0:\n",
    "        return adr\n",
    "    alignment_offset = itemsize - (adr % itemsize)\n",
    "    return adr + alignment_offset, alignment_offset\n",
    "\n",
    "\n",
    "aligned, offset = align(451241*256+9, 8)\n",
    "print(aligned)\n",
    "print(offset)\n",
    "print(aligned % 16 == 0)"
   ]
  },
  {
   "cell_type": "code",
   "execution_count": 2,
   "id": "3064619a-4050-419b-bab1-6da7c77bfe81",
   "metadata": {},
   "outputs": [
    {
     "data": {
      "text/plain": [
       "array([[30., 30., 30., 30., 30., 30., 30., 30., 30., 30.],\n",
       "       [30., 30.,  0.,  0.,  0.,  0.,  0.,  0.,  0., 30.],\n",
       "       [30.,  0., 30.,  0.,  0.,  0.,  0.,  0.,  0., 30.],\n",
       "       [30.,  0.,  0., 30.,  0.,  0.,  0.,  0.,  0., 30.],\n",
       "       [30.,  0.,  0.,  0., 30.,  0.,  0.,  0.,  0., 30.],\n",
       "       [30.,  0.,  0.,  0.,  0., 30.,  0.,  0.,  0., 30.],\n",
       "       [30.,  0.,  0.,  0.,  0.,  0., 30.,  0.,  0., 30.],\n",
       "       [30.,  0.,  0.,  0.,  0.,  0.,  0., 30.,  0., 30.],\n",
       "       [30.,  0.,  0.,  0.,  0.,  0.,  0.,  0., 30., 30.],\n",
       "       [30., 30., 30., 30., 30., 30., 30., 30., 30., 30.]])"
      ]
     },
     "execution_count": 2,
     "metadata": {},
     "output_type": "execute_result"
    }
   ],
   "source": [
    "import numpy as np\n",
    "\n",
    "init_value = 30\n",
    "\n",
    "def init(n):\n",
    "    ary = np.zeros(shape=(n, n), dtype=np.float64)\n",
    "    ary[0] = init_value\n",
    "    ary[n-1] = init_value\n",
    "    ary[:, 0] = init_value\n",
    "    ary[:, n-1] = init_value\n",
    "    np.fill_diagonal(ary, init_value)\n",
    "    return ary\n",
    "\n",
    "ary = init(10)\n",
    "ary"
   ]
  },
  {
   "cell_type": "code",
   "execution_count": null,
   "id": "733a1ab5-8423-4d0b-b554-228283127baf",
   "metadata": {},
   "outputs": [],
   "source": []
  }
 ],
 "metadata": {
  "kernelspec": {
   "display_name": "Python 3 (ipykernel)",
   "language": "python",
   "name": "python3"
  },
  "language_info": {
   "codemirror_mode": {
    "name": "ipython",
    "version": 3
   },
   "file_extension": ".py",
   "mimetype": "text/x-python",
   "name": "python",
   "nbconvert_exporter": "python",
   "pygments_lexer": "ipython3",
   "version": "3.11.7"
  }
 },
 "nbformat": 4,
 "nbformat_minor": 5
}
